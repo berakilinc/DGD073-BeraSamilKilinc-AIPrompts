{
 "cells": [
  {
   "cell_type": "code",
   "execution_count": null,
   "metadata": {},
   "outputs": [],
   "source": [
    "from groq import Groq\n",
    "\n",
    "client = Groq(api_key=\"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\")\n",
    "\n",
    "conversation_history = [\n",
    "    {\"role\": \"system\", \"content\": \"\"}\n",
    "]\n",
    "\n",
    "def chat_with_ai(user_input):\n",
    "    if user_input.lower() == \"stop\":\n",
    "        print(\"AI chat stopped.\")\n",
    "        return False \n",
    "\n",
    "    conversation_history.append({\"role\": \"user\", \"content\": user_input})\n",
    "\n",
    "    stream = client.chat.completions.create(\n",
    "        messages=conversation_history,\n",
    "        model=\"llama-3.3-70b-versatile\",\n",
    "        temperature=0.5,\n",
    "        max_completion_tokens=1024,\n",
    "        top_p=1,\n",
    "        stop=None,\n",
    "        stream=True,\n",
    "    )\n",
    "\n",
    "    ai_response = \"\"\n",
    "    for chunk in stream:\n",
    "        if chunk.choices[0].delta.content:\n",
    "            print(chunk.choices[0].delta.content, end=\"\")\n",
    "            ai_response += chunk.choices[0].delta.content\n",
    "\n",
    "    print(\"\\n\")\n",
    "\n",
    "    conversation_history.append({\"role\": \"assistant\", \"content\": ai_response})\n",
    "    return True\n",
    "\n",
    "\n",
    "while True:\n",
    "    user_input = input(\"You: \")\n",
    "    if not chat_with_ai(user_input):\n",
    "        break\n"
   ]
  }
 ],
 "metadata": {
  "kernelspec": {
   "display_name": "Python 3",
   "language": "python",
   "name": "python3"
  },
  "language_info": {
   "codemirror_mode": {
    "name": "ipython",
    "version": 3
   },
   "file_extension": ".py",
   "mimetype": "text/x-python",
   "name": "python",
   "nbconvert_exporter": "python",
   "pygments_lexer": "ipython3",
   "version": "3.11.7"
  }
 },
 "nbformat": 4,
 "nbformat_minor": 2
}
